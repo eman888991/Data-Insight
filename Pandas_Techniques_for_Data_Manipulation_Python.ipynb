{
 "cells": [
  {
   "cell_type": "markdown",
   "id": "8f8581f7",
   "metadata": {},
   "source": [
    "# <span style = \"color:darkviolet;\">Pandas Techniques for Data Manipulation in Python</span> "
   ]
  },
  {
   "cell_type": "markdown",
   "id": "bfb3301b",
   "metadata": {},
   "source": [
    "###  Techniques will be discussed are:\n",
    "### <span style = \"color:mediumorchid;\">1- Imputing missing values\n",
    "### <span style = \"color:mediumorchid;\">2- Multi-Indexing\n",
    "### <span style = \"color:mediumorchid;\">3- Apply Function\n",
    "### <span style = \"color:mediumorchid;\">4- Crosstab\n",
    "### <span style = \"color:mediumorchid;\">5- Boolean Indexing\n",
    "### <span style = \"color:mediumorchid;\">6-\n",
    "### <span style = \"color:mediumorchid;\">7-"
   ]
  },
  {
   "cell_type": "markdown",
   "id": "c5dd539d",
   "metadata": {},
   "source": [
    "## <span style = \"color:mediumorchid;\">1- Imputing missing values\n",
    "### <span style = \"color:violet;\">  Why do you need to fill in the missing data?<span><span style = \"color:dimgray;\"> Because most of the machine learning models that you want to use will provide an error if you pass NaN values into it. The easiest way is to just fill them up with 0, but this can reduce your model accuracy significantly.<span>"
   ]
  }
 ],
 "metadata": {
  "kernelspec": {
   "display_name": "Python 3",
   "language": "python",
   "name": "python3"
  },
  "language_info": {
   "codemirror_mode": {
    "name": "ipython",
    "version": 3
   },
   "file_extension": ".py",
   "mimetype": "text/x-python",
   "name": "python",
   "nbconvert_exporter": "python",
   "pygments_lexer": "ipython3",
   "version": "3.8.8"
  }
 },
 "nbformat": 4,
 "nbformat_minor": 5
}
