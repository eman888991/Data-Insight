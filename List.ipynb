{
 "cells": [
  {
   "cell_type": "markdown",
   "id": "ab56b8b1",
   "metadata": {},
   "source": [
    "# <span style = \"color:blue;\">List</span>\n",
    "### Lists are used to store multiple items(may be different types) in a single variable.\n",
    "### items in list may be deplucate\n",
    "### Lists are created using square brackets"
   ]
  },
  {
   "cell_type": "code",
   "execution_count": 1,
   "id": "ee769460",
   "metadata": {},
   "outputs": [
    {
     "name": "stdout",
     "output_type": "stream",
     "text": [
      "['apple', 'banana', 'grapes']\n"
     ]
    }
   ],
   "source": [
    "# list have string items\n",
    "fruit = [\"apple\", \"banana\", \"grapes\"]\n",
    "print(fruit)"
   ]
  },
  {
   "cell_type": "code",
   "execution_count": 21,
   "id": "aa36710a",
   "metadata": {},
   "outputs": [
    {
     "name": "stdout",
     "output_type": "stream",
     "text": [
      "[True, False, True, True]\n"
     ]
    }
   ],
   "source": [
    "# list have boolean items\n",
    "T_F = [True, False,True,True]\n",
    "print(T_F)"
   ]
  },
  {
   "cell_type": "code",
   "execution_count": 3,
   "id": "56ca8eca",
   "metadata": {},
   "outputs": [
    {
     "name": "stdout",
     "output_type": "stream",
     "text": [
      "[4, 3, 9]\n"
     ]
    }
   ],
   "source": [
    "# list have integer items\n",
    "numbers = [4, 3, 9]\n",
    "print(numbers)"
   ]
  },
  {
   "cell_type": "code",
   "execution_count": 15,
   "id": "17a5802c",
   "metadata": {},
   "outputs": [
    {
     "name": "stdout",
     "output_type": "stream",
     "text": [
      "['Eman', 'r', 8, True, [4, 'four']]\n"
     ]
    }
   ],
   "source": [
    "# list have different types items\n",
    "# list can be an item in list!\n",
    "mix = ['Eman', 'r', 8, True,[4,\"four\"]]\n",
    "print(mix)"
   ]
  },
  {
   "cell_type": "markdown",
   "id": "1d655c43",
   "metadata": {},
   "source": [
    "# <span style = \"color:blue;\"> Access items in List</span>\n",
    "### name of list   square brackets index ot item\n",
    "### change value of item"
   ]
  },
  {
   "cell_type": "code",
   "execution_count": 20,
   "id": "3a127bf5",
   "metadata": {},
   "outputs": [
    {
     "name": "stdout",
     "output_type": "stream",
     "text": [
      "apple\n",
      "banana\n",
      "['apple', 'banana', 'pears']\n"
     ]
    }
   ],
   "source": [
    "fruit = [\"apple\", \"banana\", \"grapes\"]\n",
    "print(fruit[0])\n",
    "print(fruit[1])\n",
    "fruit[2]=\"pears\"\n",
    "print(fruit)"
   ]
  },
  {
   "cell_type": "markdown",
   "id": "c5873d82",
   "metadata": {},
   "source": [
    "# <span style = \"color:blue;\"> Add items to list</span>\n",
    "### use append() method to add an item to the end of the list\n",
    "### use the insert() method to insert a list item at a specified index\n",
    "### use <span style = \"color:red;\">+</span>"
   ]
  },
  {
   "cell_type": "code",
   "execution_count": 11,
   "id": "d8bd5c23",
   "metadata": {},
   "outputs": [
    {
     "name": "stdout",
     "output_type": "stream",
     "text": [
      "['apple', 'banana', 'grapes', 'orange']\n"
     ]
    }
   ],
   "source": [
    "fruit = [\"apple\", \"banana\", \"grapes\"]\n",
    "# Note fruit.append(\"orange\",\"pears\") give an error.append used to add only one item\n",
    "fruit.append(\"orange\")\n",
    "print(fruit)"
   ]
  },
  {
   "cell_type": "code",
   "execution_count": 12,
   "id": "fb26e9c3",
   "metadata": {},
   "outputs": [
    {
     "name": "stdout",
     "output_type": "stream",
     "text": [
      "['apple', 'banana', 'orange', 'grapes']\n"
     ]
    }
   ],
   "source": [
    "fruit = [\"apple\", \"banana\", \"grapes\"]\n",
    "# Note orange will be the third item not second as index in list start with 0\n",
    "fruit.insert(2,\"orange\")\n",
    "print(fruit)"
   ]
  },
  {
   "cell_type": "code",
   "execution_count": 23,
   "id": "ef08cfe3",
   "metadata": {},
   "outputs": [
    {
     "name": "stdout",
     "output_type": "stream",
     "text": [
      "['apple', 'banana', 'grapes', 'orange']\n"
     ]
    }
   ],
   "source": [
    "fruit = [\"apple\", \"banana\", \"grapes\"]\n",
    "new_fruit = fruit + [\"orange\"]\n",
    "print(new_fruit)"
   ]
  },
  {
   "cell_type": "markdown",
   "id": "44d0ba8f",
   "metadata": {},
   "source": [
    "# <span style = \"color:blue;\">Delet item from list</span>\n",
    "### use<span style = \"color:red;\"> del </span> method : remove the specified index\n",
    "### use <span style = \"color:red;\">remove</span> method: remove the specified item\n",
    "### use <span style = \"color:red;\">pop</span> method:remove only last item in list\n",
    "### use <span style = \"color:red;\">clear</span> method:remove all items in list"
   ]
  },
  {
   "cell_type": "code",
   "execution_count": 14,
   "id": "861d57ac",
   "metadata": {},
   "outputs": [
    {
     "name": "stdout",
     "output_type": "stream",
     "text": [
      "['apple', 'banana', 'grapes']\n"
     ]
    }
   ],
   "source": [
    "fruit = [\"apple\", \"banana\",\"orange\", \"grapes\"]\n",
    "del[fruit[2]]\n",
    "print(fruit)"
   ]
  },
  {
   "cell_type": "code",
   "execution_count": 16,
   "id": "1d10a8f9",
   "metadata": {},
   "outputs": [
    {
     "name": "stdout",
     "output_type": "stream",
     "text": [
      "['apple', 'banana', 'grapes']\n"
     ]
    }
   ],
   "source": [
    "fruit = [\"apple\", \"banana\",\"orange\", \"grapes\"]\n",
    "fruit.remove(\"orange\")\n",
    "print(fruit)"
   ]
  },
  {
   "cell_type": "code",
   "execution_count": 19,
   "id": "2799dfa8",
   "metadata": {},
   "outputs": [
    {
     "name": "stdout",
     "output_type": "stream",
     "text": [
      "['apple', 'banana', 'orange']\n"
     ]
    }
   ],
   "source": [
    "fruit = [\"apple\", \"banana\",\"orange\", \"grapes\"]\n",
    "fruit.pop()\n",
    "print(fruit)"
   ]
  },
  {
   "cell_type": "code",
   "execution_count": 18,
   "id": "e14985b7",
   "metadata": {},
   "outputs": [
    {
     "name": "stdout",
     "output_type": "stream",
     "text": [
      "[]\n"
     ]
    }
   ],
   "source": [
    "fruit = [\"apple\", \"banana\",\"orange\", \"grapes\"]\n",
    "fruit.clear()\n",
    "print(fruit)"
   ]
  },
  {
   "cell_type": "markdown",
   "id": "3b0f9b0d",
   "metadata": {},
   "source": [
    "# <span style = \"color:blue;\">Part of list</span>\n",
    "### using  <span style = \"color:red;\">:</span>\n"
   ]
  },
  {
   "cell_type": "code",
   "execution_count": 22,
   "id": "c17ef652",
   "metadata": {},
   "outputs": [
    {
     "name": "stdout",
     "output_type": "stream",
     "text": [
      "['Mahmoud', 'Ibrahim', 'Esraa']\n"
     ]
    }
   ],
   "source": [
    "names = [\"Eman\",\"Mahmoud\",\"Ibrahim\",\"Esraa\",\"Manar\"]\n",
    "print(names[1:4])"
   ]
  },
  {
   "cell_type": "markdown",
   "id": "79fccc3f",
   "metadata": {},
   "source": [
    "# <span style = \"color:blue;\">sort list</span>\n",
    "### use <span style = \"color:red;\">sort</span> method"
   ]
  },
  {
   "cell_type": "code",
   "execution_count": 25,
   "id": "928b33f1",
   "metadata": {},
   "outputs": [
    {
     "name": "stdout",
     "output_type": "stream",
     "text": [
      "[23, 50, 65, 82, 100]\n"
     ]
    }
   ],
   "source": [
    "list = [100, 50, 65, 82, 23]\n",
    "# ascending, by default\n",
    "list.sort()\n",
    "print(list)"
   ]
  },
  {
   "cell_type": "code",
   "execution_count": 27,
   "id": "36eb7b18",
   "metadata": {},
   "outputs": [
    {
     "name": "stdout",
     "output_type": "stream",
     "text": [
      "[100, 82, 65, 50, 23]\n"
     ]
    }
   ],
   "source": [
    "# Sort Descending reverse = True\n",
    "list = [100, 50, 65, 82, 23]\n",
    "list.sort(reverse = True)\n",
    "print(list)"
   ]
  }
 ],
 "metadata": {
  "kernelspec": {
   "display_name": "Python 3",
   "language": "python",
   "name": "python3"
  },
  "language_info": {
   "codemirror_mode": {
    "name": "ipython",
    "version": 3
   },
   "file_extension": ".py",
   "mimetype": "text/x-python",
   "name": "python",
   "nbconvert_exporter": "python",
   "pygments_lexer": "ipython3",
   "version": "3.8.8"
  }
 },
 "nbformat": 4,
 "nbformat_minor": 5
}
