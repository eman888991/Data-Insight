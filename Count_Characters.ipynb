{
 "cells": [
  {
   "cell_type": "markdown",
   "id": "31fa0ce5",
   "metadata": {},
   "source": [
    "# Count character occurrences in a given word, phrase or sentence"
   ]
  },
  {
   "cell_type": "markdown",
   "id": "cf75b18a",
   "metadata": {},
   "source": [
    "### Get word, phrase or sentence from user"
   ]
  },
  {
   "cell_type": "code",
   "execution_count": 31,
   "id": "48d0917e",
   "metadata": {},
   "outputs": [
    {
     "name": "stdout",
     "output_type": "stream",
     "text": [
      "Enter sentence :/// nnn ppppp 8\n"
     ]
    }
   ],
   "source": [
    "sentence = input (\"Enter sentence :\")"
   ]
  },
  {
   "cell_type": "markdown",
   "id": "ada72987",
   "metadata": {},
   "source": [
    "### Function Count character occurrences in a given word, phrase or sentence"
   ]
  },
  {
   "cell_type": "code",
   "execution_count": 32,
   "id": "0725cef8",
   "metadata": {},
   "outputs": [],
   "source": [
    "def count_characters(sentence):\n",
    "    #length is a number of character in sentence including spcial character @ $ #... and spaces\n",
    "    length = len(sentence)\n",
    "    #Creat dictionary keys are characters and values are count of characters\n",
    "    #count in beging has key 1 if I put count empty it is occure an error in if statement \n",
    "    count = {'count':1}\n",
    "    ''' for loop all string sentence from first character sentence[0] \n",
    "    to last character sentence[length - 1]\n",
    "    as string in python in an array and\n",
    "    order start from zero not one\n",
    "     '''\n",
    "    for i in range(length):\n",
    "        # if element sentence[i] in keys I increase this value \n",
    "        if sentence[i] in count.keys():\n",
    "            count[sentence[i] ] += 1\n",
    "        # if element sentence[i] in not in keys I creat new keys neme's sentence[i] and put value by one       \n",
    "        else:\n",
    "           count[sentence[i] ] = 1\n",
    "        \n",
    "    del count[\"count\"]\n",
    "    return count"
   ]
  },
  {
   "cell_type": "code",
   "execution_count": 33,
   "id": "7d339ca7",
   "metadata": {},
   "outputs": [],
   "source": [
    "result = count_characters(sentence)"
   ]
  },
  {
   "cell_type": "code",
   "execution_count": 42,
   "id": "119faa3c",
   "metadata": {},
   "outputs": [
    {
     "name": "stdout",
     "output_type": "stream",
     "text": [
      "   ::  3\n",
      "/  ::  3\n",
      "8  ::  1\n",
      "n  ::  3\n",
      "p  ::  5\n"
     ]
    }
   ],
   "source": [
    "# display dictionary in acending order kays\n",
    "for key in sorted(result) :\n",
    "    print(key , \" :: \" , result[key])"
   ]
  }
 ],
 "metadata": {
  "kernelspec": {
   "display_name": "Python 3",
   "language": "python",
   "name": "python3"
  },
  "language_info": {
   "codemirror_mode": {
    "name": "ipython",
    "version": 3
   },
   "file_extension": ".py",
   "mimetype": "text/x-python",
   "name": "python",
   "nbconvert_exporter": "python",
   "pygments_lexer": "ipython3",
   "version": "3.8.8"
  }
 },
 "nbformat": 4,
 "nbformat_minor": 5
}
