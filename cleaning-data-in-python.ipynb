{
 "cells": [
  {
   "cell_type": "code",
   "execution_count": 1,
   "id": "654fb0a8",
   "metadata": {
    "_cell_guid": "b1076dfc-b9ad-4769-8c92-a6c4dae69d19",
    "_uuid": "8f2839f25d086af736a60e9eeb907d3b93b6e0e5",
    "execution": {
     "iopub.execute_input": "2021-12-09T20:28:59.682703Z",
     "iopub.status.busy": "2021-12-09T20:28:59.681702Z",
     "iopub.status.idle": "2021-12-09T20:28:59.697691Z",
     "shell.execute_reply": "2021-12-09T20:28:59.698345Z",
     "shell.execute_reply.started": "2021-12-09T20:27:16.656742Z"
    },
    "papermill": {
     "duration": 0.043188,
     "end_time": "2021-12-09T20:28:59.698645",
     "exception": false,
     "start_time": "2021-12-09T20:28:59.655457",
     "status": "completed"
    },
    "tags": []
   },
   "outputs": [
    {
     "name": "stdout",
     "output_type": "stream",
     "text": [
      "/kaggle/input/california-housing-prices/housing.csv\n"
     ]
    }
   ],
   "source": [
    "# This Python 3 environment comes with many helpful analytics libraries installed\n",
    "# It is defined by the kaggle/python Docker image: https://github.com/kaggle/docker-python\n",
    "# For example, here's several helpful packages to load\n",
    "\n",
    "import numpy as np # linear algebra\n",
    "import pandas as pd # data processing, CSV file I/O (e.g. pd.read_csv)\n",
    "\n",
    "# Input data files are available in the read-only \"../input/\" directory\n",
    "# For example, running this (by clicking run or pressing Shift+Enter) will list all files under the input directory\n",
    "\n",
    "import os\n",
    "for dirname, _, filenames in os.walk('/kaggle/input'):\n",
    "    for filename in filenames:\n",
    "        print(os.path.join(dirname, filename))\n",
    "\n",
    "# You can write up to 20GB to the current directory (/kaggle/working/) that gets preserved as output when you create a version using \"Save & Run All\" \n",
    "# You can also write temporary files to /kaggle/temp/, but they won't be saved outside of the current session"
   ]
  },
  {
   "cell_type": "markdown",
   "id": "89a4f2e3",
   "metadata": {
    "papermill": {
     "duration": 0.016221,
     "end_time": "2021-12-09T20:28:59.732607",
     "exception": false,
     "start_time": "2021-12-09T20:28:59.716386",
     "status": "completed"
    },
    "tags": []
   },
   "source": [
    "# <span style = \"color:olive;\">Data cleansing</span>\n",
    "## is a process of detecting and rectifying (or deleting) of untrustworthy, inaccurate or outdated information from a data set, archives, table, or database.\n",
    "## <span style = \"color:olive;\">You’ll learn techniques on how to find and clean:</span>\n",
    "- Missing Data\n",
    "- Irregular Data (Outliers)\n",
    "- Unnecessary Data — Repetitive Data, Duplicates and more"
   ]
  },
  {
   "cell_type": "markdown",
   "id": "6d866fb0",
   "metadata": {
    "papermill": {
     "duration": 0.016453,
     "end_time": "2021-12-09T20:28:59.765875",
     "exception": false,
     "start_time": "2021-12-09T20:28:59.749422",
     "status": "completed"
    },
    "tags": []
   },
   "source": [
    "## we use the [California Housing Prices](https://www.kaggle.com/camnugent/california-housing-prices) from Kaggle.\n",
    "About this file\n",
    "1. longitude: A measure of how far west a house is; a higher value is farther west\n",
    "\n",
    "2. latitude: A measure of how far north a house is; a higher value is farther north\n",
    "\n",
    "3. housingMedianAge: Median age of a house within a block; a lower number is a newer building\n",
    "\n",
    "4. totalRooms: Total number of rooms within a block\n",
    "\n",
    "5. totalBedrooms: Total number of bedrooms within a block\n",
    "\n",
    "6. population: Total number of people residing within a block\n",
    "\n",
    "7. households: Total number of households, a group of people residing within a home unit, for a block\n",
    "\n",
    "8. medianIncome: Median income for households within a block of houses (measured in tens of thousands of US Dollars)\n",
    "\n",
    "9. medianHouseValue: Median house value for households within a block (measured in US Dollars)\n",
    "\n",
    "10. oceanProximity: Location of the house w.r.t ocean/sea"
   ]
  },
  {
   "cell_type": "code",
   "execution_count": 2,
   "id": "d91a4112",
   "metadata": {
    "execution": {
     "iopub.execute_input": "2021-12-09T20:28:59.802803Z",
     "iopub.status.busy": "2021-12-09T20:28:59.801829Z",
     "iopub.status.idle": "2021-12-09T20:29:00.832114Z",
     "shell.execute_reply": "2021-12-09T20:29:00.831456Z",
     "shell.execute_reply.started": "2021-12-09T20:27:16.718858Z"
    },
    "papermill": {
     "duration": 1.049697,
     "end_time": "2021-12-09T20:29:00.832319",
     "exception": false,
     "start_time": "2021-12-09T20:28:59.782622",
     "status": "completed"
    },
    "tags": []
   },
   "outputs": [],
   "source": [
    "# import packages\n",
    "import pandas as pd\n",
    "import numpy as np\n",
    "import seaborn as sns\n",
    "\n",
    "import matplotlib.pyplot as plt\n",
    "import matplotlib.mlab as mlab\n",
    "import matplotlib"
   ]
  },
  {
   "cell_type": "code",
   "execution_count": 3,
   "id": "54fd235d",
   "metadata": {
    "execution": {
     "iopub.execute_input": "2021-12-09T20:29:00.871857Z",
     "iopub.status.busy": "2021-12-09T20:29:00.871120Z",
     "iopub.status.idle": "2021-12-09T20:29:00.968291Z",
     "shell.execute_reply": "2021-12-09T20:29:00.967730Z",
     "shell.execute_reply.started": "2021-12-09T20:27:16.725906Z"
    },
    "papermill": {
     "duration": 0.118904,
     "end_time": "2021-12-09T20:29:00.968436",
     "exception": false,
     "start_time": "2021-12-09T20:29:00.849532",
     "status": "completed"
    },
    "tags": []
   },
   "outputs": [
    {
     "name": "stdout",
     "output_type": "stream",
     "text": [
      "(20640, 10)\n",
      "longitude             float64\n",
      "latitude              float64\n",
      "housing_median_age    float64\n",
      "total_rooms           float64\n",
      "total_bedrooms        float64\n",
      "population            float64\n",
      "households            float64\n",
      "median_income         float64\n",
      "median_house_value    float64\n",
      "ocean_proximity        object\n",
      "dtype: object\n"
     ]
    },
    {
     "data": {
      "text/html": [
       "<div>\n",
       "<style scoped>\n",
       "    .dataframe tbody tr th:only-of-type {\n",
       "        vertical-align: middle;\n",
       "    }\n",
       "\n",
       "    .dataframe tbody tr th {\n",
       "        vertical-align: top;\n",
       "    }\n",
       "\n",
       "    .dataframe thead th {\n",
       "        text-align: right;\n",
       "    }\n",
       "</style>\n",
       "<table border=\"1\" class=\"dataframe\">\n",
       "  <thead>\n",
       "    <tr style=\"text-align: right;\">\n",
       "      <th></th>\n",
       "      <th>longitude</th>\n",
       "      <th>latitude</th>\n",
       "      <th>housing_median_age</th>\n",
       "      <th>total_rooms</th>\n",
       "      <th>total_bedrooms</th>\n",
       "      <th>population</th>\n",
       "      <th>households</th>\n",
       "      <th>median_income</th>\n",
       "      <th>median_house_value</th>\n",
       "      <th>ocean_proximity</th>\n",
       "    </tr>\n",
       "  </thead>\n",
       "  <tbody>\n",
       "    <tr>\n",
       "      <th>0</th>\n",
       "      <td>-122.23</td>\n",
       "      <td>37.88</td>\n",
       "      <td>41.0</td>\n",
       "      <td>880.0</td>\n",
       "      <td>129.0</td>\n",
       "      <td>322.0</td>\n",
       "      <td>126.0</td>\n",
       "      <td>8.3252</td>\n",
       "      <td>452600.0</td>\n",
       "      <td>NEAR BAY</td>\n",
       "    </tr>\n",
       "    <tr>\n",
       "      <th>1</th>\n",
       "      <td>-122.22</td>\n",
       "      <td>37.86</td>\n",
       "      <td>21.0</td>\n",
       "      <td>7099.0</td>\n",
       "      <td>1106.0</td>\n",
       "      <td>2401.0</td>\n",
       "      <td>1138.0</td>\n",
       "      <td>8.3014</td>\n",
       "      <td>358500.0</td>\n",
       "      <td>NEAR BAY</td>\n",
       "    </tr>\n",
       "    <tr>\n",
       "      <th>2</th>\n",
       "      <td>-122.24</td>\n",
       "      <td>37.85</td>\n",
       "      <td>52.0</td>\n",
       "      <td>1467.0</td>\n",
       "      <td>190.0</td>\n",
       "      <td>496.0</td>\n",
       "      <td>177.0</td>\n",
       "      <td>7.2574</td>\n",
       "      <td>352100.0</td>\n",
       "      <td>NEAR BAY</td>\n",
       "    </tr>\n",
       "    <tr>\n",
       "      <th>3</th>\n",
       "      <td>-122.25</td>\n",
       "      <td>37.85</td>\n",
       "      <td>52.0</td>\n",
       "      <td>1274.0</td>\n",
       "      <td>235.0</td>\n",
       "      <td>558.0</td>\n",
       "      <td>219.0</td>\n",
       "      <td>5.6431</td>\n",
       "      <td>341300.0</td>\n",
       "      <td>NEAR BAY</td>\n",
       "    </tr>\n",
       "    <tr>\n",
       "      <th>4</th>\n",
       "      <td>-122.25</td>\n",
       "      <td>37.85</td>\n",
       "      <td>52.0</td>\n",
       "      <td>1627.0</td>\n",
       "      <td>280.0</td>\n",
       "      <td>565.0</td>\n",
       "      <td>259.0</td>\n",
       "      <td>3.8462</td>\n",
       "      <td>342200.0</td>\n",
       "      <td>NEAR BAY</td>\n",
       "    </tr>\n",
       "  </tbody>\n",
       "</table>\n",
       "</div>"
      ],
      "text/plain": [
       "   longitude  latitude  housing_median_age  total_rooms  total_bedrooms  \\\n",
       "0    -122.23     37.88                41.0        880.0           129.0   \n",
       "1    -122.22     37.86                21.0       7099.0          1106.0   \n",
       "2    -122.24     37.85                52.0       1467.0           190.0   \n",
       "3    -122.25     37.85                52.0       1274.0           235.0   \n",
       "4    -122.25     37.85                52.0       1627.0           280.0   \n",
       "\n",
       "   population  households  median_income  median_house_value ocean_proximity  \n",
       "0       322.0       126.0         8.3252            452600.0        NEAR BAY  \n",
       "1      2401.0      1138.0         8.3014            358500.0        NEAR BAY  \n",
       "2       496.0       177.0         7.2574            352100.0        NEAR BAY  \n",
       "3       558.0       219.0         5.6431            341300.0        NEAR BAY  \n",
       "4       565.0       259.0         3.8462            342200.0        NEAR BAY  "
      ]
     },
     "execution_count": 3,
     "metadata": {},
     "output_type": "execute_result"
    }
   ],
   "source": [
    "df = pd.read_csv(\"../input/california-housing-prices/housing.csv\")\n",
    "print(df.shape)\n",
    "print(df.dtypes)\n",
    "df.head()"
   ]
  },
  {
   "cell_type": "code",
   "execution_count": 4,
   "id": "3a86b625",
   "metadata": {
    "execution": {
     "iopub.execute_input": "2021-12-09T20:29:01.007394Z",
     "iopub.status.busy": "2021-12-09T20:29:01.006723Z",
     "iopub.status.idle": "2021-12-09T20:29:01.024283Z",
     "shell.execute_reply": "2021-12-09T20:29:01.023757Z",
     "shell.execute_reply.started": "2021-12-09T20:27:16.798828Z"
    },
    "papermill": {
     "duration": 0.038286,
     "end_time": "2021-12-09T20:29:01.024430",
     "exception": false,
     "start_time": "2021-12-09T20:29:00.986144",
     "status": "completed"
    },
    "tags": []
   },
   "outputs": [
    {
     "name": "stdout",
     "output_type": "stream",
     "text": [
      "['longitude' 'latitude' 'housing_median_age' 'total_rooms'\n",
      " 'total_bedrooms' 'population' 'households' 'median_income'\n",
      " 'median_house_value']\n"
     ]
    }
   ],
   "source": [
    "# select numeric columns\n",
    "df_numeric = df.select_dtypes(include=[np.number])\n",
    "numeric_cols = df_numeric.columns.values\n",
    "print(numeric_cols)"
   ]
  },
  {
   "cell_type": "code",
   "execution_count": 5,
   "id": "440b177f",
   "metadata": {
    "execution": {
     "iopub.execute_input": "2021-12-09T20:29:01.062925Z",
     "iopub.status.busy": "2021-12-09T20:29:01.062302Z",
     "iopub.status.idle": "2021-12-09T20:29:01.069227Z",
     "shell.execute_reply": "2021-12-09T20:29:01.069800Z",
     "shell.execute_reply.started": "2021-12-09T20:27:16.806725Z"
    },
    "papermill": {
     "duration": 0.027763,
     "end_time": "2021-12-09T20:29:01.069960",
     "exception": false,
     "start_time": "2021-12-09T20:29:01.042197",
     "status": "completed"
    },
    "tags": []
   },
   "outputs": [
    {
     "name": "stdout",
     "output_type": "stream",
     "text": [
      "['ocean_proximity']\n"
     ]
    }
   ],
   "source": [
    "# select non numeric columns\n",
    "df_non_numeric = df.select_dtypes(exclude=[np.number])\n",
    "non_numeric_cols = df_non_numeric.columns.values\n",
    "print(non_numeric_cols)"
   ]
  },
  {
   "cell_type": "markdown",
   "id": "92b0b6fb",
   "metadata": {
    "papermill": {
     "duration": 0.017744,
     "end_time": "2021-12-09T20:29:01.105786",
     "exception": false,
     "start_time": "2021-12-09T20:29:01.088042",
     "status": "completed"
    },
    "tags": []
   },
   "source": [
    "# <span style = \"color:olive;\">Missing Data Heatmap</span>\n",
    "## When there is a smaller number of features, we can visualize the missing data via heatmap."
   ]
  },
  {
   "cell_type": "code",
   "execution_count": 6,
   "id": "c937d03f",
   "metadata": {
    "execution": {
     "iopub.execute_input": "2021-12-09T20:29:01.145431Z",
     "iopub.status.busy": "2021-12-09T20:29:01.144739Z",
     "iopub.status.idle": "2021-12-09T20:29:01.891123Z",
     "shell.execute_reply": "2021-12-09T20:29:01.890575Z",
     "shell.execute_reply.started": "2021-12-09T20:27:16.824738Z"
    },
    "papermill": {
     "duration": 0.767418,
     "end_time": "2021-12-09T20:29:01.891277",
     "exception": false,
     "start_time": "2021-12-09T20:29:01.123859",
     "status": "completed"
    },
    "tags": []
   },
   "outputs": [
    {
     "data": {
      "text/plain": [
       "<AxesSubplot:>"
      ]
     },
     "execution_count": 6,
     "metadata": {},
     "output_type": "execute_result"
    },
    {
     "data": {
      "image/png": "[encoded data removed]",
      "text/plain": [
       "<Figure size 432x288 with 2 Axes>"
      ]
     },
     "metadata": {
      "needs_background": "light"
     },
     "output_type": "display_data"
    }
   ],
   "source": [
    "colours = ['#000099', '#ffff00'] # specify the colours - yellow is missing. blue is not missing.\n",
    "sns.heatmap(df.isnull(), cmap=sns.color_palette(colours))"
   ]
  },
  {
   "cell_type": "markdown",
   "id": "900ff849",
   "metadata": {
    "papermill": {
     "duration": 0.021074,
     "end_time": "2021-12-09T20:29:01.934218",
     "exception": false,
     "start_time": "2021-12-09T20:29:01.913144",
     "status": "completed"
    },
    "tags": []
   },
   "source": [
    " the total_bedrooms feature only has little missing values around the 20640th row."
   ]
  },
  {
   "cell_type": "code",
   "execution_count": 7,
   "id": "097325e2",
   "metadata": {
    "execution": {
     "iopub.execute_input": "2021-12-09T20:29:01.985665Z",
     "iopub.status.busy": "2021-12-09T20:29:01.984941Z",
     "iopub.status.idle": "2021-12-09T20:29:01.988849Z",
     "shell.execute_reply": "2021-12-09T20:29:01.988201Z",
     "shell.execute_reply.started": "2021-12-09T20:27:17.660917Z"
    },
    "papermill": {
     "duration": 0.033784,
     "end_time": "2021-12-09T20:29:01.989003",
     "exception": false,
     "start_time": "2021-12-09T20:29:01.955219",
     "status": "completed"
    },
    "tags": []
   },
   "outputs": [
    {
     "name": "stdout",
     "output_type": "stream",
     "text": [
      "longitude               0\n",
      "latitude                0\n",
      "housing_median_age      0\n",
      "total_rooms             0\n",
      "total_bedrooms        207\n",
      "population              0\n",
      "households              0\n",
      "median_income           0\n",
      "median_house_value      0\n",
      "ocean_proximity         0\n",
      "dtype: int64\n"
     ]
    }
   ],
   "source": [
    "print(df.isnull().sum())"
   ]
  },
  {
   "cell_type": "markdown",
   "id": "1ed4eed1",
   "metadata": {
    "papermill": {
     "duration": 0.019596,
     "end_time": "2021-12-09T20:29:02.029502",
     "exception": false,
     "start_time": "2021-12-09T20:29:02.009906",
     "status": "completed"
    },
    "tags": []
   },
   "source": [
    "fill massing values in total_bedrooms with mean"
   ]
  },
  {
   "cell_type": "code",
   "execution_count": 8,
   "id": "794b3162",
   "metadata": {
    "execution": {
     "iopub.execute_input": "2021-12-09T20:29:02.079769Z",
     "iopub.status.busy": "2021-12-09T20:29:02.073594Z",
     "iopub.status.idle": "2021-12-09T20:29:02.082405Z",
     "shell.execute_reply": "2021-12-09T20:29:02.081830Z",
     "shell.execute_reply.started": "2021-12-09T20:27:17.672805Z"
    },
    "papermill": {
     "duration": 0.032613,
     "end_time": "2021-12-09T20:29:02.082549",
     "exception": false,
     "start_time": "2021-12-09T20:29:02.049936",
     "status": "completed"
    },
    "tags": []
   },
   "outputs": [],
   "source": [
    "df['total_bedrooms'] = df['total_bedrooms'].fillna(df['total_bedrooms'].mean())"
   ]
  },
  {
   "cell_type": "markdown",
   "id": "e0773052",
   "metadata": {
    "papermill": {
     "duration": 0.019517,
     "end_time": "2021-12-09T20:29:02.121948",
     "exception": false,
     "start_time": "2021-12-09T20:29:02.102431",
     "status": "completed"
    },
    "tags": []
   },
   "source": [
    "# <span style = \"color:olive;\">Irregular data (Outliers)</span>\n",
    "## Outliers are data that is distinctively different from other observations. They could be real outliers or mistakes."
   ]
  },
  {
   "cell_type": "code",
   "execution_count": 9,
   "id": "5e891c0d",
   "metadata": {
    "execution": {
     "iopub.execute_input": "2021-12-09T20:29:02.168357Z",
     "iopub.status.busy": "2021-12-09T20:29:02.167331Z",
     "iopub.status.idle": "2021-12-09T20:29:02.394154Z",
     "shell.execute_reply": "2021-12-09T20:29:02.394629Z",
     "shell.execute_reply.started": "2021-12-09T20:27:17.681368Z"
    },
    "papermill": {
     "duration": 0.251579,
     "end_time": "2021-12-09T20:29:02.394803",
     "exception": false,
     "start_time": "2021-12-09T20:29:02.143224",
     "status": "completed"
    },
    "tags": []
   },
   "outputs": [
    {
     "data": {
      "text/plain": [
       "<AxesSubplot:>"
      ]
     },
     "execution_count": 9,
     "metadata": {},
     "output_type": "execute_result"
    },
    {
     "data": {
      "image/png": "[encoded data removed]",
      "text/plain": [
       "<Figure size 432x288 with 1 Axes>"
      ]
     },
     "metadata": {
      "needs_background": "light"
     },
     "output_type": "display_data"
    }
   ],
   "source": [
    "# box plot.\n",
    "\n",
    "df.boxplot(column=['median_house_value'])"
   ]
  },
  {
   "cell_type": "code",
   "execution_count": 10,
   "id": "ee2b5e40",
   "metadata": {
    "execution": {
     "iopub.execute_input": "2021-12-09T20:29:02.440105Z",
     "iopub.status.busy": "2021-12-09T20:29:02.439156Z",
     "iopub.status.idle": "2021-12-09T20:29:02.448941Z",
     "shell.execute_reply": "2021-12-09T20:29:02.449492Z",
     "shell.execute_reply.started": "2021-12-09T20:27:17.899177Z"
    },
    "papermill": {
     "duration": 0.034103,
     "end_time": "2021-12-09T20:29:02.449663",
     "exception": false,
     "start_time": "2021-12-09T20:29:02.415560",
     "status": "completed"
    },
    "tags": []
   },
   "outputs": [
    {
     "data": {
      "text/plain": [
       "count     20640.000000\n",
       "mean     206855.816909\n",
       "std      115395.615874\n",
       "min       14999.000000\n",
       "25%      119600.000000\n",
       "50%      179700.000000\n",
       "75%      264725.000000\n",
       "max      500001.000000\n",
       "Name: median_house_value, dtype: float64"
      ]
     },
     "execution_count": 10,
     "metadata": {},
     "output_type": "execute_result"
    }
   ],
   "source": [
    "df['median_house_value'].describe()"
   ]
  },
  {
   "cell_type": "markdown",
   "id": "0f413a64",
   "metadata": {
    "papermill": {
     "duration": 0.020752,
     "end_time": "2021-12-09T20:29:02.491403",
     "exception": false,
     "start_time": "2021-12-09T20:29:02.470651",
     "status": "completed"
    },
    "tags": []
   },
   "source": [
    "## The 500001 value is an outlier"
   ]
  },
  {
   "cell_type": "code",
   "execution_count": 11,
   "id": "f0b07e03",
   "metadata": {
    "execution": {
     "iopub.execute_input": "2021-12-09T20:29:02.538889Z",
     "iopub.status.busy": "2021-12-09T20:29:02.538247Z",
     "iopub.status.idle": "2021-12-09T20:29:02.544364Z",
     "shell.execute_reply": "2021-12-09T20:29:02.543774Z",
     "shell.execute_reply.started": "2021-12-09T20:27:17.913531Z"
    },
    "papermill": {
     "duration": 0.031951,
     "end_time": "2021-12-09T20:29:02.544523",
     "exception": false,
     "start_time": "2021-12-09T20:29:02.512572",
     "status": "completed"
    },
    "tags": []
   },
   "outputs": [
    {
     "data": {
      "text/plain": [
       "965"
      ]
     },
     "execution_count": 11,
     "metadata": {},
     "output_type": "execute_result"
    }
   ],
   "source": [
    "df[df['median_house_value'] == 500001]['median_house_value'].count()"
   ]
  },
  {
   "cell_type": "code",
   "execution_count": 12,
   "id": "b2f6fcaf",
   "metadata": {
    "execution": {
     "iopub.execute_input": "2021-12-09T20:29:02.592824Z",
     "iopub.status.busy": "2021-12-09T20:29:02.592183Z",
     "iopub.status.idle": "2021-12-09T20:29:02.594758Z",
     "shell.execute_reply": "2021-12-09T20:29:02.595484Z",
     "shell.execute_reply.started": "2021-12-09T20:27:17.923000Z"
    },
    "papermill": {
     "duration": 0.029736,
     "end_time": "2021-12-09T20:29:02.595714",
     "exception": false,
     "start_time": "2021-12-09T20:29:02.565978",
     "status": "completed"
    },
    "tags": []
   },
   "outputs": [
    {
     "name": "stdout",
     "output_type": "stream",
     "text": [
      "4.675387596899225\n"
     ]
    }
   ],
   "source": [
    "print((965/ 20640)*100)"
   ]
  },
  {
   "cell_type": "markdown",
   "id": "69f4e2f7",
   "metadata": {
    "papermill": {
     "duration": 0.021162,
     "end_time": "2021-12-09T20:29:02.639626",
     "exception": false,
     "start_time": "2021-12-09T20:29:02.618464",
     "status": "completed"
    },
    "tags": []
   },
   "source": [
    "## we have 4.6%  of value  500001 we can decide to remove it or not but I see this prcentage big to remove it effect on analysis.\n"
   ]
  },
  {
   "cell_type": "markdown",
   "id": "984a39f6",
   "metadata": {
    "papermill": {
     "duration": 0.021075,
     "end_time": "2021-12-09T20:29:02.682051",
     "exception": false,
     "start_time": "2021-12-09T20:29:02.660976",
     "status": "completed"
    },
    "tags": []
   },
   "source": [
    "# <span style = \"color:olive;\"> Unnecessary Data — Repetitive Data, Duplicates and more</span>\n",
    "## remove households column"
   ]
  },
  {
   "cell_type": "code",
   "execution_count": 13,
   "id": "f231bd14",
   "metadata": {
    "execution": {
     "iopub.execute_input": "2021-12-09T20:29:02.729596Z",
     "iopub.status.busy": "2021-12-09T20:29:02.728950Z",
     "iopub.status.idle": "2021-12-09T20:29:02.734151Z",
     "shell.execute_reply": "2021-12-09T20:29:02.734692Z",
     "shell.execute_reply.started": "2021-12-09T20:27:17.938563Z"
    },
    "papermill": {
     "duration": 0.030024,
     "end_time": "2021-12-09T20:29:02.734860",
     "exception": false,
     "start_time": "2021-12-09T20:29:02.704836",
     "status": "completed"
    },
    "tags": []
   },
   "outputs": [],
   "source": [
    "df =  df.drop(columns=['households'])"
   ]
  },
  {
   "cell_type": "markdown",
   "id": "09ed69da",
   "metadata": {
    "papermill": {
     "duration": 0.021674,
     "end_time": "2021-12-09T20:29:02.778373",
     "exception": false,
     "start_time": "2021-12-09T20:29:02.756699",
     "status": "completed"
    },
    "tags": []
   },
   "source": [
    "# References:\n",
    "## - https://www.cloverdx.com/blog/data-cleansing-steps-better-data-health\n",
    "## - https://towardsdatascience.com/data-cleaning-in-python-the-ultimate-guide-2020-c63b88bf0a0d"
   ]
  }
 ],
 "metadata": {
  "kernelspec": {
   "display_name": "Python 3",
   "language": "python",
   "name": "python3"
  },
  "language_info": {
   "codemirror_mode": {
    "name": "ipython",
    "version": 3
   },
   "file_extension": ".py",
   "mimetype": "text/x-python",
   "name": "python",
   "nbconvert_exporter": "python",
   "pygments_lexer": "ipython3",
   "version": "3.8.8"
  },
  "papermill": {
   "default_parameters": {},
   "duration": 13.872313,
   "end_time": "2021-12-09T20:29:03.509996",
   "environment_variables": {},
   "exception": null,
   "input_path": "__notebook__.ipynb",
   "output_path": "__notebook__.ipynb",
   "parameters": {},
   "start_time": "2021-12-09T20:28:49.637683",
   "version": "2.3.3"
  }
 },
 "nbformat": 4,
 "nbformat_minor": 5
}
