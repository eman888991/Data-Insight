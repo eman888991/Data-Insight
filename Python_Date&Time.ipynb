{
 "cells": [
  {
   "cell_type": "markdown",
   "id": "d4063bc6",
   "metadata": {},
   "source": [
    "# <span style = \"color:blue;\"> Python Date & Time </span>\n",
    "### Date & Time is an important form of structured data in many different fields, such as finance, and economics."
   ]
  },
  {
   "cell_type": "markdown",
   "id": "2eec92d8",
   "metadata": {},
   "source": [
    "### We will use the date class of the datetime module.\n",
    "### <span style = \"color:red;\">date.today() </span>method to get the current local date."
   ]
  },
  {
   "cell_type": "code",
   "execution_count": 9,
   "id": "e5081103",
   "metadata": {},
   "outputs": [
    {
     "name": "stdout",
     "output_type": "stream",
     "text": [
      "Today's date: 2021-10-06\n"
     ]
    }
   ],
   "source": [
    "from datetime import date\n",
    "today = date.today()\n",
    "print(\"Today's date:\", today)"
   ]
  },
  {
   "cell_type": "markdown",
   "id": "2cb142e4",
   "metadata": {},
   "source": [
    "### use the <span style = \"color:red;\">strftime() </span>method to create a string representing date in different formats."
   ]
  },
  {
   "cell_type": "code",
   "execution_count": 10,
   "id": "84b1d4f4",
   "metadata": {},
   "outputs": [
    {
     "name": "stdout",
     "output_type": "stream",
     "text": [
      "D1 = 06/10/2021\n",
      "D2 = October 06, 2021\n",
      "D3 = 10/06/21\n",
      "D4 = Oct-06-2021\n"
     ]
    }
   ],
   "source": [
    "from datetime import date\n",
    "today = date.today()\n",
    "# dd/mm/YY\n",
    "D1 = today.strftime(\"%d/%m/%Y\")\n",
    "print(\"D1 =\", D1)\n",
    "# Textual month, day and year\t\n",
    "D2 = today.strftime(\"%B %d, %Y\")\n",
    "print(\"D2 =\", D2)\n",
    "# mm/dd/y\n",
    "D3 = today.strftime(\"%m/%d/%y\")\n",
    "print(\"D3 =\", D3)\n",
    "# Month abbreviation, day and year\t\n",
    "D4 = today.strftime(\"%b-%d-%Y\")\n",
    "print(\"D4 =\", D4)"
   ]
  },
  {
   "cell_type": "markdown",
   "id": "0caf88dd",
   "metadata": {},
   "source": [
    "### Get the current date and time\n",
    "### use <span style = \"color:red;\"> datetime.now() </span> method "
   ]
  },
  {
   "cell_type": "code",
   "execution_count": 11,
   "id": "ba10b2ab",
   "metadata": {},
   "outputs": [
    {
     "name": "stdout",
     "output_type": "stream",
     "text": [
      "now = 2021-10-06 02:06:11.523039\n",
      "date and time = 06/10/2021 02:06:11\n"
     ]
    }
   ],
   "source": [
    "from datetime import datetime\n",
    "# datetime object containing current date and time\n",
    "now = datetime.now()\n",
    "print(\"now =\", now)\n",
    "# dd/mm/YY H:M:S\n",
    "dt_string = now.strftime(\"%d/%m/%Y %H:%M:%S\")\n",
    "print(\"date and time =\", dt_string)"
   ]
  },
  {
   "cell_type": "markdown",
   "id": "348d42cc",
   "metadata": {},
   "source": [
    "### Python <span style = \"color:red;\"> timedelta </span> class is used for calculating differences in dates and also can be used for date manipulations in Python"
   ]
  },
  {
   "cell_type": "code",
   "execution_count": 12,
   "id": "5cfedb0f",
   "metadata": {},
   "outputs": [
    {
     "name": "stdout",
     "output_type": "stream",
     "text": [
      "initial_date 2021-10-06 02:06:11.678496\n",
      "future_date_after_2yrs: 2023-10-06 02:06:11.678496\n"
     ]
    }
   ],
   "source": [
    "from datetime import datetime, timedelta\n",
    "ini_time_for_now = datetime.now()\n",
    "# 'datetime.date' can converted to steing use str \n",
    "print(\"initial_date\", str(ini_time_for_now))\n",
    "future_date_after_2yrs = ini_time_for_now + timedelta(days=730)\n",
    "print('future_date_after_2yrs:', str(future_date_after_2yrs))"
   ]
  }
 ],
 "metadata": {
  "kernelspec": {
   "display_name": "Python 3",
   "language": "python",
   "name": "python3"
  },
  "language_info": {
   "codemirror_mode": {
    "name": "ipython",
    "version": 3
   },
   "file_extension": ".py",
   "mimetype": "text/x-python",
   "name": "python",
   "nbconvert_exporter": "python",
   "pygments_lexer": "ipython3",
   "version": "3.8.8"
  }
 },
 "nbformat": 4,
 "nbformat_minor": 5
}
