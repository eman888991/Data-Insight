{
 "cells": [
  {
   "cell_type": "markdown",
   "id": "048c836a",
   "metadata": {},
   "source": [
    "# <span style = \"color:blue;\"> Palindrome word </span>\n",
    "### A palindrome is a word, phrase, number, or sequence of words that reads the same backward as forward. Punctuation and spaces between the words or lettering are allowed.\n",
    "### Examples: \n",
    "### Anna civic kayak level madam mom  noon"
   ]
  },
  {
   "cell_type": "markdown",
   "id": "bdb921fc",
   "metadata": {},
   "source": [
    "# <span style = \"color:green;\"> reverse function </span>\n",
    "### - input word convert all letters to lower case\n",
    "### - start with empty string str \n",
    "### - take charchter by charchter input word and add to s"
   ]
  },
  {
   "cell_type": "code",
   "execution_count": 21,
   "id": "84970fb9",
   "metadata": {},
   "outputs": [],
   "source": [
    "def reverse(s):\n",
    "  s = s.lower() \n",
    "  str = \"\"\n",
    "  for i in s:\n",
    "    #print(i,\"  \")  \n",
    "    str = i + str\n",
    "  return str"
   ]
  },
  {
   "cell_type": "code",
   "execution_count": 22,
   "id": "97cae0ae",
   "metadata": {},
   "outputs": [
    {
     "name": "stdout",
     "output_type": "stream",
     "text": [
      "Enter word:Anna\n"
     ]
    }
   ],
   "source": [
    "word = input(\"Enter word:\")"
   ]
  },
  {
   "cell_type": "code",
   "execution_count": 23,
   "id": "8e320720",
   "metadata": {},
   "outputs": [
    {
     "name": "stdout",
     "output_type": "stream",
     "text": [
      "Palindrome\n"
     ]
    }
   ],
   "source": [
    "print(\"Palindrome\") if (word.lower() == reverse(word)) else print(\"Not Palindrome\")"
   ]
  }
 ],
 "metadata": {
  "kernelspec": {
   "display_name": "Python 3",
   "language": "python",
   "name": "python3"
  },
  "language_info": {
   "codemirror_mode": {
    "name": "ipython",
    "version": 3
   },
   "file_extension": ".py",
   "mimetype": "text/x-python",
   "name": "python",
   "nbconvert_exporter": "python",
   "pygments_lexer": "ipython3",
   "version": "3.8.8"
  }
 },
 "nbformat": 4,
 "nbformat_minor": 5
}
