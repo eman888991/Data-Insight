{
 "cells": [
  {
   "cell_type": "markdown",
   "id": "2e5e4de0",
   "metadata": {},
   "source": [
    "Time-Series-Analysis-of-NAICS
TThe North American Industry Classification System (NAICS) is an industry classification system developed by the statistical agencies of Canada, Mexico, and the United States. NAICS is designed to provide common definitions of the industrial structure of the three countries and a common statistical framework to facilitate the analysis of the three economies. This analysis is a step by step analysis of the data, with a blog post found here https://www.datainsightonline.com/post/analysing-the-naics-time-series-data
   The North American Industry Classification System (NAICS) is an industry classification system developed by the statistical agencies of Canada, Mexico, and the United States. NAICS is designed to provide common definitions of the industrial structure of the three countries and a common statistical framework to facilitate the analysis of the three economies. The dataset contains total employments from January 1997 to September 2019. I made an analysis for the 59 industries and a prediction until December 2021."
   ]
  },
  {
   "cell_type": "markdown",
   "id": "0154234e",
   "metadata": {},
   "source": [
    "The ID system of NAICS works in a hierarchical way:\n",
    "\n",
    "Sector: 2 digits ID\n",
    "\n",
    "Subsector: 3 digits ID\n",
    "\n",
    "Industry Group: 4 digits ID"
   ]
  },
  {
   "cell_type": "code",
   "execution_count": 324,
   "id": "13890022",
   "metadata": {},
   "outputs": [],
   "source": [
    "import pandas as pd \n",
    "import numpy as np\n",
    "import matplotlib.pyplot as plt\n",
    "import seaborn as sns\n",
    "import re\n",
    "import glob \n",
    "import warnings "
   ]
  },
  {
   "cell_type": "code",
   "execution_count": 325,
   "id": "c215a6da",
   "metadata": {},
   "outputs": [],
   "source": [
    "files = glob.glob(r\"C:/Users/21AK22/Documents/Data Insight/A_NEWLY_HIRED_DATA_ANALYST/*.csv\")"
   ]
  },
  {
   "cell_type": "code",
   "execution_count": 326,
   "id": "4a4ea7f3",
   "metadata": {},
   "outputs": [],
   "source": [
    "data_2digit = pd.DataFrame()\n",
    "data_3digit = pd.DataFrame()\n",
    "data_4digit = pd.DataFrame()\n",
    "for file in files:\n",
    "    \n",
    "    if re.search('_2NAICS', file):\n",
    "        df = pd.read_csv(file)\n",
    "        data_2digit = pd.concat([data_2digit, df])\n",
    "        \n",
    "    elif re.search('_3NAICS', file):\n",
    "        df = pd.read_csv(file)\n",
    "        data_3digit = pd.concat([data_3digit, df])\n",
    "        \n",
    "    elif re.search('_4NAICS', file):\n",
    "        df = pd.read_csv(file)\n",
    "        data_4digit = pd.concat([data_4digit, df])\n",
    "        \n"
   ]
  },
  {
   "cell_type": "markdown",
   "id": "abfa01a5",
   "metadata": {},
   "source": [
    "### Columns mean as follows:\n",
    "#### (i) SYEAR: Survey Year\n",
    "#### (ii) SMTH: Survey Month\n",
    "#### (iii) NAICS: Industry name and associated NAICS code in the bracket\n",
    "#### (iv) _EMPLOYMENT_: Employment"
   ]
  },
  {
   "cell_type": "code",
   "execution_count": 327,
   "id": "96db98c5",
   "metadata": {},
   "outputs": [],
   "source": [
    "def separate_NAICS_code(df):  \n",
    "    df1=pd.DataFrame(df.NAICS.astype('str').str.split('[').to_list(), columns=['NAICS','NAICS_CODE'])\n",
    "    df1['NAICS_CODE']= df1.NAICS_CODE.astype('str').str.strip(']').str.replace('-',',')\n",
    "    df['NAICS']=df1['NAICS']\n",
    "    df['NAICS_CODE']= df1['NAICS_CODE']\n",
    "    \n",
    "    return df\n",
    "def Date_column(df): \n",
    "    df['date'] = pd.to_datetime(df.SYEAR.astype('str') + df.SMTH.astype('str'), format='%Y%m')\n",
    "    df = df.sort_values('date')\n",
    "    return df"
   ]
  },
  {
   "cell_type": "markdown",
   "id": "ce875a9a",
   "metadata": {},
   "source": [
    "## preprossing data_2digit\n",
    "- Separate NAICS from thier code and put thier code in new column \n",
    "- create date column using SYEAR and SYEAR"
   ]
  },
  {
   "cell_type": "code",
   "execution_count": 328,
   "id": "196690ea",
   "metadata": {},
   "outputs": [
    {
     "data": {
      "text/html": [
       "<div>\n",
       "<style scoped>\n",
       "    .dataframe tbody tr th:only-of-type {\n",
       "        vertical-align: middle;\n",
       "    }\n",
       "\n",
       "    .dataframe tbody tr th {\n",
       "        vertical-align: top;\n",
       "    }\n",
       "\n",
       "    .dataframe thead th {\n",
       "        text-align: right;\n",
       "    }\n",
       "</style>\n",
       "<table border=\"1\" class=\"dataframe\">\n",
       "  <thead>\n",
       "    <tr style=\"text-align: right;\">\n",
       "      <th></th>\n",
       "      <th>SYEAR</th>\n",
       "      <th>SMTH</th>\n",
       "      <th>NAICS</th>\n",
       "      <th>_EMPLOYMENT_</th>\n",
       "      <th>NAICS_CODE</th>\n",
       "      <th>date</th>\n",
       "    </tr>\n",
       "  </thead>\n",
       "  <tbody>\n",
       "    <tr>\n",
       "      <th>19</th>\n",
       "      <td>1997</td>\n",
       "      <td>1</td>\n",
       "      <td>Wholesale trade</td>\n",
       "      <td>72000</td>\n",
       "      <td>41</td>\n",
       "      <td>1997-01-01</td>\n",
       "    </tr>\n",
       "    <tr>\n",
       "      <th>18</th>\n",
       "      <td>1997</td>\n",
       "      <td>1</td>\n",
       "      <td>Utilities</td>\n",
       "      <td>9750</td>\n",
       "      <td>22</td>\n",
       "      <td>1997-01-01</td>\n",
       "    </tr>\n",
       "  </tbody>\n",
       "</table>\n",
       "</div>"
      ],
      "text/plain": [
       "    SYEAR  SMTH              NAICS  _EMPLOYMENT_ NAICS_CODE       date\n",
       "19   1997     1  Wholesale trade           72000         41 1997-01-01\n",
       "18   1997     1         Utilities           9750         22 1997-01-01"
      ]
     },
     "execution_count": 328,
     "metadata": {},
     "output_type": "execute_result"
    }
   ],
   "source": [
    "data_2digit = separate_NAICS_code(data_2digit)\n",
    "data_2digit = Date_column(data_2digit)\n",
    "data_2digit.head(2)"
   ]
  },
  {
   "cell_type": "markdown",
   "id": "08fdd903",
   "metadata": {},
   "source": [
    "## preprossing data_3digit"
   ]
  },
  {
   "cell_type": "code",
   "execution_count": 329,
   "id": "4df725b0",
   "metadata": {},
   "outputs": [
    {
     "data": {
      "text/html": [
       "<div>\n",
       "<style scoped>\n",
       "    .dataframe tbody tr th:only-of-type {\n",
       "        vertical-align: middle;\n",
       "    }\n",
       "\n",
       "    .dataframe tbody tr th {\n",
       "        vertical-align: top;\n",
       "    }\n",
       "\n",
       "    .dataframe thead th {\n",
       "        text-align: right;\n",
       "    }\n",
       "</style>\n",
       "<table border=\"1\" class=\"dataframe\">\n",
       "  <thead>\n",
       "    <tr style=\"text-align: right;\">\n",
       "      <th></th>\n",
       "      <th>SYEAR</th>\n",
       "      <th>SMTH</th>\n",
       "      <th>NAICS</th>\n",
       "      <th>_EMPLOYMENT_</th>\n",
       "      <th>NAICS_CODE</th>\n",
       "      <th>date</th>\n",
       "    </tr>\n",
       "  </thead>\n",
       "  <tbody>\n",
       "    <tr>\n",
       "      <th>102</th>\n",
       "      <td>1997</td>\n",
       "      <td>1</td>\n",
       "      <td>Aboriginal public administration</td>\n",
       "      <td>48000</td>\n",
       "      <td>914</td>\n",
       "      <td>1997-01-01</td>\n",
       "    </tr>\n",
       "    <tr>\n",
       "      <th>75</th>\n",
       "      <td>1997</td>\n",
       "      <td>1</td>\n",
       "      <td>Professional, scientific and technical services</td>\n",
       "      <td>9750</td>\n",
       "      <td>541</td>\n",
       "      <td>1997-01-01</td>\n",
       "    </tr>\n",
       "  </tbody>\n",
       "</table>\n",
       "</div>"
      ],
      "text/plain": [
       "     SYEAR  SMTH                                            NAICS  \\\n",
       "102   1997     1                 Aboriginal public administration   \n",
       "75    1997     1  Professional, scientific and technical services   \n",
       "\n",
       "     _EMPLOYMENT_ NAICS_CODE       date  \n",
       "102         48000        914 1997-01-01  \n",
       "75           9750        541 1997-01-01  "
      ]
     },
     "execution_count": 329,
     "metadata": {},
     "output_type": "execute_result"
    }
   ],
   "source": [
    "data_3digit = separate_NAICS_code(data_3digit)\n",
    "data_3digit = Date_column(data_3digit)\n",
    "data_3digit.head(2)"
   ]
  },
  {
   "cell_type": "markdown",
   "id": "7070d0dc",
   "metadata": {},
   "source": [
    "## preprossing data_4digit"
   ]
  },
  {
   "cell_type": "code",
   "execution_count": 330,
   "id": "f9ac5d30",
   "metadata": {},
   "outputs": [
    {
     "data": {
      "text/html": [
       "<div>\n",
       "<style scoped>\n",
       "    .dataframe tbody tr th:only-of-type {\n",
       "        vertical-align: middle;\n",
       "    }\n",
       "\n",
       "    .dataframe tbody tr th {\n",
       "        vertical-align: top;\n",
       "    }\n",
       "\n",
       "    .dataframe thead th {\n",
       "        text-align: right;\n",
       "    }\n",
       "</style>\n",
       "<table border=\"1\" class=\"dataframe\">\n",
       "  <thead>\n",
       "    <tr style=\"text-align: right;\">\n",
       "      <th></th>\n",
       "      <th>SYEAR</th>\n",
       "      <th>SMTH</th>\n",
       "      <th>NAICS</th>\n",
       "      <th>_EMPLOYMENT_</th>\n",
       "      <th>date</th>\n",
       "    </tr>\n",
       "  </thead>\n",
       "  <tbody>\n",
       "    <tr>\n",
       "      <th>308</th>\n",
       "      <td>1997</td>\n",
       "      <td>1</td>\n",
       "      <td>9191</td>\n",
       "      <td>0</td>\n",
       "      <td>1997-01-01</td>\n",
       "    </tr>\n",
       "    <tr>\n",
       "      <th>210</th>\n",
       "      <td>1997</td>\n",
       "      <td>1</td>\n",
       "      <td>5171</td>\n",
       "      <td>11000</td>\n",
       "      <td>1997-01-01</td>\n",
       "    </tr>\n",
       "  </tbody>\n",
       "</table>\n",
       "</div>"
      ],
      "text/plain": [
       "     SYEAR  SMTH  NAICS  _EMPLOYMENT_       date\n",
       "308   1997     1   9191             0 1997-01-01\n",
       "210   1997     1   5171         11000 1997-01-01"
      ]
     },
     "execution_count": 330,
     "metadata": {},
     "output_type": "execute_result"
    }
   ],
   "source": [
    "data_4digit = Date_column(data_4digit)\n",
    "\n",
    "data_4digit.head(2)"
   ]
  },
  {
   "cell_type": "code",
   "execution_count": 331,
   "id": "a0916161",
   "metadata": {},
   "outputs": [
    {
     "name": "stdout",
     "output_type": "stream",
     "text": [
      "   SYEAR  SMTH                            LMO_Detailed_Industry  Employment\n",
      "0   1997     1                           Accommodation services         0.0\n",
      "1   1997     1                               Air transportation         0.0\n",
      "2   1997     1                  Ambulatory health care services         0.0\n",
      "3   1997     1    Amusement, gambling and recreation industries         0.0\n",
      "4   1997     1  Architectural, engineering and related services         0.0\n"
     ]
    }
   ],
   "source": [
    "Data_Output_Template = pd.read_excel(r\"C:/Users/21AK22/Documents/Data Insight/A_NEWLY_HIRED_DATA_ANALYST/Data_Output_Template.xlsx\")\n",
    "Data_Output_Template = Data_Output_Template.fillna(0)\n",
    "\n",
    "print(Data_Output_Template.head())\n"
   ]
  },
  {
   "cell_type": "code",
   "execution_count": 332,
   "id": "58abbee0",
   "metadata": {},
   "outputs": [
    {
     "name": "stdout",
     "output_type": "stream",
     "text": [
      "                             LMO_Detailed_Industry      NAICS\n",
      "0                                            Farms  111 , 112\n",
      "1                    Fishing, hunting and trapping        114\n",
      "2                             Forestry and logging        113\n",
      "3  Support activities for agriculture and forestry        115\n",
      "4                           Oil and gas extraction        211\n"
     ]
    }
   ],
   "source": [
    "LMO_Detailed_Industries_by_NAICS = pd.read_excel(r\"C:/Users/21AK22/Documents/Data Insight/A_NEWLY_HIRED_DATA_ANALYST/LMO_Detailed_Industries_by_NAICS.xlsx\")\n",
    "LMO_Detailed_Industries_by_NAICS['NAICS'] = LMO_Detailed_Industries_by_NAICS['NAICS'].replace(regex='&', value=',').astype('str')\n",
    "LMO_Detailed_Industries_by_NAICS['NAICS'] = LMO_Detailed_Industries_by_NAICS['NAICS'].astype('str')\n",
    "\n",
    "print(LMO_Detailed_Industries_by_NAICS.head())\n"
   ]
  },
  {
   "cell_type": "markdown",
   "id": "0711cab4",
   "metadata": {},
   "source": [
    "## left merging the data_2digit with lmo_detailed_industries "
   ]
  },
  {
   "cell_type": "code",
   "execution_count": 333,
   "id": "e90369ca",
   "metadata": {},
   "outputs": [
    {
     "data": {
      "text/html": [
       "<div>\n",
       "<style scoped>\n",
       "    .dataframe tbody tr th:only-of-type {\n",
       "        vertical-align: middle;\n",
       "    }\n",
       "\n",
       "    .dataframe tbody tr th {\n",
       "        vertical-align: top;\n",
       "    }\n",
       "\n",
       "    .dataframe thead th {\n",
       "        text-align: right;\n",
       "    }\n",
       "</style>\n",
       "<table border=\"1\" class=\"dataframe\">\n",
       "  <thead>\n",
       "    <tr style=\"text-align: right;\">\n",
       "      <th></th>\n",
       "      <th>SYEAR</th>\n",
       "      <th>SMTH</th>\n",
       "      <th>_EMPLOYMENT_</th>\n",
       "      <th>NAICS_CODE</th>\n",
       "      <th>date</th>\n",
       "      <th>LMO_Detailed_Industry</th>\n",
       "    </tr>\n",
       "  </thead>\n",
       "  <tbody>\n",
       "    <tr>\n",
       "      <th>0</th>\n",
       "      <td>1997</td>\n",
       "      <td>1</td>\n",
       "      <td>72000</td>\n",
       "      <td>41</td>\n",
       "      <td>1997-01-01</td>\n",
       "      <td>Wholesale trade</td>\n",
       "    </tr>\n",
       "    <tr>\n",
       "      <th>15</th>\n",
       "      <td>1997</td>\n",
       "      <td>1</td>\n",
       "      <td>118000</td>\n",
       "      <td>23</td>\n",
       "      <td>1997-01-01</td>\n",
       "      <td>Construction</td>\n",
       "    </tr>\n",
       "    <tr>\n",
       "      <th>7</th>\n",
       "      <td>1997</td>\n",
       "      <td>1</td>\n",
       "      <td>89250</td>\n",
       "      <td>81</td>\n",
       "      <td>1997-01-01</td>\n",
       "      <td>Repair, personal and non-profit services</td>\n",
       "    </tr>\n",
       "    <tr>\n",
       "      <th>4</th>\n",
       "      <td>1997</td>\n",
       "      <td>1</td>\n",
       "      <td>50750</td>\n",
       "      <td>53</td>\n",
       "      <td>1997-01-01</td>\n",
       "      <td>Real estate rental and leasing</td>\n",
       "    </tr>\n",
       "  </tbody>\n",
       "</table>\n",
       "</div>"
      ],
      "text/plain": [
       "    SYEAR  SMTH  _EMPLOYMENT_ NAICS_CODE       date  \\\n",
       "0    1997     1         72000         41 1997-01-01   \n",
       "15   1997     1        118000         23 1997-01-01   \n",
       "7    1997     1         89250         81 1997-01-01   \n",
       "4    1997     1         50750         53 1997-01-01   \n",
       "\n",
       "                       LMO_Detailed_Industry  \n",
       "0                            Wholesale trade  \n",
       "15                              Construction  \n",
       "7   Repair, personal and non-profit services  \n",
       "4             Real estate rental and leasing  "
      ]
     },
     "execution_count": 333,
     "metadata": {},
     "output_type": "execute_result"
    }
   ],
   "source": [
    "df1=data_2digit.merge(LMO_Detailed_Industries_by_NAICS, left_on='NAICS_CODE', \n",
    "                     right_on='NAICS', how='left').drop(columns=['NAICS_x','NAICS_y'],axis=1)\n",
    "\n",
    "\n",
    "df1 = format_date(df1).dropna()\n",
    "df1.head(4)"
   ]
  },
  {
   "cell_type": "markdown",
   "id": "0ae61154",
   "metadata": {},
   "source": [
    "## left merging the data_3digit with lmo_detailed_industries "
   ]
  },
  {
   "cell_type": "code",
   "execution_count": 334,
   "id": "77953ed6",
   "metadata": {},
   "outputs": [
    {
     "data": {
      "text/html": [
       "<div>\n",
       "<style scoped>\n",
       "    .dataframe tbody tr th:only-of-type {\n",
       "        vertical-align: middle;\n",
       "    }\n",
       "\n",
       "    .dataframe tbody tr th {\n",
       "        vertical-align: top;\n",
       "    }\n",
       "\n",
       "    .dataframe thead th {\n",
       "        text-align: right;\n",
       "    }\n",
       "</style>\n",
       "<table border=\"1\" class=\"dataframe\">\n",
       "  <thead>\n",
       "    <tr style=\"text-align: right;\">\n",
       "      <th></th>\n",
       "      <th>SYEAR</th>\n",
       "      <th>SMTH</th>\n",
       "      <th>_EMPLOYMENT_</th>\n",
       "      <th>NAICS_CODE</th>\n",
       "      <th>date</th>\n",
       "      <th>LMO_Detailed_Industry</th>\n",
       "    </tr>\n",
       "  </thead>\n",
       "  <tbody>\n",
       "    <tr>\n",
       "      <th>73</th>\n",
       "      <td>1997</td>\n",
       "      <td>1</td>\n",
       "      <td>24000</td>\n",
       "      <td>721</td>\n",
       "      <td>1997-01-01</td>\n",
       "      <td>Accommodation services</td>\n",
       "    </tr>\n",
       "    <tr>\n",
       "      <th>71</th>\n",
       "      <td>1997</td>\n",
       "      <td>1</td>\n",
       "      <td>17000</td>\n",
       "      <td>481</td>\n",
       "      <td>1997-01-01</td>\n",
       "      <td>Air transportation</td>\n",
       "    </tr>\n",
       "    <tr>\n",
       "      <th>70</th>\n",
       "      <td>1997</td>\n",
       "      <td>1</td>\n",
       "      <td>40000</td>\n",
       "      <td>621</td>\n",
       "      <td>1997-01-01</td>\n",
       "      <td>Ambulatory health care services</td>\n",
       "    </tr>\n",
       "    <tr>\n",
       "      <th>69</th>\n",
       "      <td>1997</td>\n",
       "      <td>1</td>\n",
       "      <td>20000</td>\n",
       "      <td>713</td>\n",
       "      <td>1997-01-01</td>\n",
       "      <td>Amusement, gambling and recreation industries</td>\n",
       "    </tr>\n",
       "  </tbody>\n",
       "</table>\n",
       "</div>"
      ],
      "text/plain": [
       "    SYEAR  SMTH  _EMPLOYMENT_ NAICS_CODE       date  \\\n",
       "73   1997     1         24000        721 1997-01-01   \n",
       "71   1997     1         17000        481 1997-01-01   \n",
       "70   1997     1         40000        621 1997-01-01   \n",
       "69   1997     1         20000        713 1997-01-01   \n",
       "\n",
       "                            LMO_Detailed_Industry  \n",
       "73                         Accommodation services  \n",
       "71                             Air transportation  \n",
       "70                Ambulatory health care services  \n",
       "69  Amusement, gambling and recreation industries  "
      ]
     },
     "execution_count": 334,
     "metadata": {},
     "output_type": "execute_result"
    }
   ],
   "source": [
    "df2=data_3digit.merge(LMO_Detailed_Industries_by_NAICS, left_on='NAICS_CODE', \n",
    "                     right_on='NAICS', how='left').drop(columns=['NAICS_x','NAICS_y'],axis=1)\n",
    "\n",
    "\n",
    "df2 = format_date(df2).dropna()\n",
    "df2.head(4)"
   ]
  },
  {
   "cell_type": "code",
   "execution_count": 335,
   "id": "a5a5fdd8",
   "metadata": {},
   "outputs": [
    {
     "data": {
      "text/html": [
       "<div>\n",
       "<style scoped>\n",
       "    .dataframe tbody tr th:only-of-type {\n",
       "        vertical-align: middle;\n",
       "    }\n",
       "\n",
       "    .dataframe tbody tr th {\n",
       "        vertical-align: top;\n",
       "    }\n",
       "\n",
       "    .dataframe thead th {\n",
       "        text-align: right;\n",
       "    }\n",
       "</style>\n",
       "<table border=\"1\" class=\"dataframe\">\n",
       "  <thead>\n",
       "    <tr style=\"text-align: right;\">\n",
       "      <th></th>\n",
       "      <th>LMO_Detailed_Industry</th>\n",
       "      <th>NAICS</th>\n",
       "    </tr>\n",
       "  </thead>\n",
       "  <tbody>\n",
       "    <tr>\n",
       "      <th>0</th>\n",
       "      <td>Farms</td>\n",
       "      <td>111</td>\n",
       "    </tr>\n",
       "    <tr>\n",
       "      <th>0</th>\n",
       "      <td>Farms</td>\n",
       "      <td>112</td>\n",
       "    </tr>\n",
       "    <tr>\n",
       "      <th>1</th>\n",
       "      <td>Fishing, hunting and trapping</td>\n",
       "      <td>114</td>\n",
       "    </tr>\n",
       "    <tr>\n",
       "      <th>2</th>\n",
       "      <td>Forestry and logging</td>\n",
       "      <td>113</td>\n",
       "    </tr>\n",
       "  </tbody>\n",
       "</table>\n",
       "</div>"
      ],
      "text/plain": [
       "           LMO_Detailed_Industry  NAICS\n",
       "0                          Farms    111\n",
       "0                          Farms    112\n",
       "1  Fishing, hunting and trapping    114\n",
       "2           Forestry and logging    113"
      ]
     },
     "execution_count": 335,
     "metadata": {},
     "output_type": "execute_result"
    }
   ],
   "source": [
    "for i in range(len(LMO_Detailed_Industries_by_NAICS)):\n",
    "    LMO_Detailed_Industries_by_NAICS.at[i, 'NAICS'] = LMO_Detailed_Industries_by_NAICS.at[i, 'NAICS'].split(',')\n",
    "\n",
    "LMO_Detailed_Industries_by_NAICS = LMO_Detailed_Industries_by_NAICS.explode('NAICS')\n",
    "LMO_Detailed_Industries_by_NAICS['NAICS'] = LMO_Detailed_Industries_by_NAICS.NAICS.astype(int)\n",
    "LMO_Detailed_Industries_by_NAICS.head(4)"
   ]
  },
  {
   "cell_type": "markdown",
   "id": "b53f164e",
   "metadata": {},
   "source": [
    "## merging the data_4digit with lmo_detailed_industries "
   ]
  },
  {
   "cell_type": "code",
   "execution_count": 336,
   "id": "deb906a1",
   "metadata": {},
   "outputs": [
    {
     "data": {
      "text/html": [
       "<div>\n",
       "<style scoped>\n",
       "    .dataframe tbody tr th:only-of-type {\n",
       "        vertical-align: middle;\n",
       "    }\n",
       "\n",
       "    .dataframe tbody tr th {\n",
       "        vertical-align: top;\n",
       "    }\n",
       "\n",
       "    .dataframe thead th {\n",
       "        text-align: right;\n",
       "    }\n",
       "</style>\n",
       "<table border=\"1\" class=\"dataframe\">\n",
       "  <thead>\n",
       "    <tr style=\"text-align: right;\">\n",
       "      <th></th>\n",
       "      <th>SYEAR</th>\n",
       "      <th>SMTH</th>\n",
       "      <th>NAICS_CODE</th>\n",
       "      <th>_EMPLOYMENT_</th>\n",
       "      <th>date</th>\n",
       "      <th>LMO_Detailed_Industry</th>\n",
       "    </tr>\n",
       "  </thead>\n",
       "  <tbody>\n",
       "    <tr>\n",
       "      <th>0</th>\n",
       "      <td>1997</td>\n",
       "      <td>1</td>\n",
       "      <td>5419</td>\n",
       "      <td>2750</td>\n",
       "      <td>1997-01-01</td>\n",
       "      <td>Legal, accounting, design, research, and adver...</td>\n",
       "    </tr>\n",
       "    <tr>\n",
       "      <th>1</th>\n",
       "      <td>1997</td>\n",
       "      <td>2</td>\n",
       "      <td>5419</td>\n",
       "      <td>2750</td>\n",
       "      <td>1997-02-01</td>\n",
       "      <td>Legal, accounting, design, research, and adver...</td>\n",
       "    </tr>\n",
       "    <tr>\n",
       "      <th>2</th>\n",
       "      <td>1997</td>\n",
       "      <td>3</td>\n",
       "      <td>5419</td>\n",
       "      <td>3500</td>\n",
       "      <td>1997-03-01</td>\n",
       "      <td>Legal, accounting, design, research, and adver...</td>\n",
       "    </tr>\n",
       "    <tr>\n",
       "      <th>3</th>\n",
       "      <td>1997</td>\n",
       "      <td>4</td>\n",
       "      <td>5419</td>\n",
       "      <td>5750</td>\n",
       "      <td>1997-04-01</td>\n",
       "      <td>Legal, accounting, design, research, and adver...</td>\n",
       "    </tr>\n",
       "    <tr>\n",
       "      <th>4</th>\n",
       "      <td>1997</td>\n",
       "      <td>5</td>\n",
       "      <td>5419</td>\n",
       "      <td>7000</td>\n",
       "      <td>1997-05-01</td>\n",
       "      <td>Legal, accounting, design, research, and adver...</td>\n",
       "    </tr>\n",
       "  </tbody>\n",
       "</table>\n",
       "</div>"
      ],
      "text/plain": [
       "   SYEAR  SMTH  NAICS_CODE  _EMPLOYMENT_       date  \\\n",
       "0   1997     1        5419          2750 1997-01-01   \n",
       "1   1997     2        5419          2750 1997-02-01   \n",
       "2   1997     3        5419          3500 1997-03-01   \n",
       "3   1997     4        5419          5750 1997-04-01   \n",
       "4   1997     5        5419          7000 1997-05-01   \n",
       "\n",
       "                               LMO_Detailed_Industry  \n",
       "0  Legal, accounting, design, research, and adver...  \n",
       "1  Legal, accounting, design, research, and adver...  \n",
       "2  Legal, accounting, design, research, and adver...  \n",
       "3  Legal, accounting, design, research, and adver...  \n",
       "4  Legal, accounting, design, research, and adver...  "
      ]
     },
     "execution_count": 336,
     "metadata": {},
     "output_type": "execute_result"
    }
   ],
   "source": [
    "df3 = data_4digit.merge(LMO_Detailed_Industries_by_NAICS, on=\"NAICS\", how = 'inner')\n",
    "\n",
    "format_date(df3)\n",
    "df3.sort_values(by= \"date\")\n",
    "df3.rename(columns={'NAICS':'NAICS_CODE'},inplace=True)\n",
    "df3.head()"
   ]
  },
  {
   "cell_type": "markdown",
   "id": "46ed6cb0",
   "metadata": {},
   "source": [
    "## # Merging 3 dataframes"
   ]
  },
  {
   "cell_type": "code",
   "execution_count": 337,
   "id": "0344ff64",
   "metadata": {},
   "outputs": [
    {
     "data": {
      "text/html": [
       "<div>\n",
       "<style scoped>\n",
       "    .dataframe tbody tr th:only-of-type {\n",
       "        vertical-align: middle;\n",
       "    }\n",
       "\n",
       "    .dataframe tbody tr th {\n",
       "        vertical-align: top;\n",
       "    }\n",
       "\n",
       "    .dataframe thead th {\n",
       "        text-align: right;\n",
       "    }\n",
       "</style>\n",
       "<table border=\"1\" class=\"dataframe\">\n",
       "  <thead>\n",
       "    <tr style=\"text-align: right;\">\n",
       "      <th></th>\n",
       "      <th>SYEAR</th>\n",
       "      <th>SMTH</th>\n",
       "      <th>_EMPLOYMENT_</th>\n",
       "      <th>NAICS_CODE</th>\n",
       "      <th>date</th>\n",
       "      <th>LMO_Detailed_Industry</th>\n",
       "    </tr>\n",
       "  </thead>\n",
       "  <tbody>\n",
       "    <tr>\n",
       "      <th>0</th>\n",
       "      <td>1997</td>\n",
       "      <td>1</td>\n",
       "      <td>72000</td>\n",
       "      <td>41</td>\n",
       "      <td>1997-01-01</td>\n",
       "      <td>Wholesale trade</td>\n",
       "    </tr>\n",
       "    <tr>\n",
       "      <th>15</th>\n",
       "      <td>1997</td>\n",
       "      <td>1</td>\n",
       "      <td>118000</td>\n",
       "      <td>23</td>\n",
       "      <td>1997-01-01</td>\n",
       "      <td>Construction</td>\n",
       "    </tr>\n",
       "    <tr>\n",
       "      <th>7</th>\n",
       "      <td>1997</td>\n",
       "      <td>1</td>\n",
       "      <td>89250</td>\n",
       "      <td>81</td>\n",
       "      <td>1997-01-01</td>\n",
       "      <td>Repair, personal and non-profit services</td>\n",
       "    </tr>\n",
       "    <tr>\n",
       "      <th>4</th>\n",
       "      <td>1997</td>\n",
       "      <td>1</td>\n",
       "      <td>50750</td>\n",
       "      <td>53</td>\n",
       "      <td>1997-01-01</td>\n",
       "      <td>Real estate rental and leasing</td>\n",
       "    </tr>\n",
       "    <tr>\n",
       "      <th>1</th>\n",
       "      <td>1997</td>\n",
       "      <td>1</td>\n",
       "      <td>9750</td>\n",
       "      <td>22</td>\n",
       "      <td>1997-01-01</td>\n",
       "      <td>Utilities</td>\n",
       "    </tr>\n",
       "    <tr>\n",
       "      <th>...</th>\n",
       "      <td>...</td>\n",
       "      <td>...</td>\n",
       "      <td>...</td>\n",
       "      <td>...</td>\n",
       "      <td>...</td>\n",
       "      <td>...</td>\n",
       "    </tr>\n",
       "    <tr>\n",
       "      <th>6343</th>\n",
       "      <td>2019</td>\n",
       "      <td>8</td>\n",
       "      <td>2000</td>\n",
       "      <td>3362</td>\n",
       "      <td>2019-08-01</td>\n",
       "      <td>Transportation equipment manufacturing (exclud...</td>\n",
       "    </tr>\n",
       "    <tr>\n",
       "      <th>6344</th>\n",
       "      <td>2019</td>\n",
       "      <td>9</td>\n",
       "      <td>1750</td>\n",
       "      <td>3362</td>\n",
       "      <td>2019-09-01</td>\n",
       "      <td>Transportation equipment manufacturing (exclud...</td>\n",
       "    </tr>\n",
       "    <tr>\n",
       "      <th>6345</th>\n",
       "      <td>2019</td>\n",
       "      <td>10</td>\n",
       "      <td>0</td>\n",
       "      <td>3362</td>\n",
       "      <td>2019-10-01</td>\n",
       "      <td>Transportation equipment manufacturing (exclud...</td>\n",
       "    </tr>\n",
       "    <tr>\n",
       "      <th>6346</th>\n",
       "      <td>2019</td>\n",
       "      <td>11</td>\n",
       "      <td>0</td>\n",
       "      <td>3362</td>\n",
       "      <td>2019-11-01</td>\n",
       "      <td>Transportation equipment manufacturing (exclud...</td>\n",
       "    </tr>\n",
       "    <tr>\n",
       "      <th>6347</th>\n",
       "      <td>2019</td>\n",
       "      <td>12</td>\n",
       "      <td>0</td>\n",
       "      <td>3362</td>\n",
       "      <td>2019-12-01</td>\n",
       "      <td>Transportation equipment manufacturing (exclud...</td>\n",
       "    </tr>\n",
       "  </tbody>\n",
       "</table>\n",
       "<p>17088 rows × 6 columns</p>\n",
       "</div>"
      ],
      "text/plain": [
       "      SYEAR  SMTH  _EMPLOYMENT_ NAICS_CODE       date  \\\n",
       "0      1997     1         72000         41 1997-01-01   \n",
       "15     1997     1        118000         23 1997-01-01   \n",
       "7      1997     1         89250         81 1997-01-01   \n",
       "4      1997     1         50750         53 1997-01-01   \n",
       "1      1997     1          9750         22 1997-01-01   \n",
       "...     ...   ...           ...        ...        ...   \n",
       "6343   2019     8          2000       3362 2019-08-01   \n",
       "6344   2019     9          1750       3362 2019-09-01   \n",
       "6345   2019    10             0       3362 2019-10-01   \n",
       "6346   2019    11             0       3362 2019-11-01   \n",
       "6347   2019    12             0       3362 2019-12-01   \n",
       "\n",
       "                                  LMO_Detailed_Industry  \n",
       "0                                       Wholesale trade  \n",
       "15                                         Construction  \n",
       "7              Repair, personal and non-profit services  \n",
       "4                        Real estate rental and leasing  \n",
       "1                                             Utilities  \n",
       "...                                                 ...  \n",
       "6343  Transportation equipment manufacturing (exclud...  \n",
       "6344  Transportation equipment manufacturing (exclud...  \n",
       "6345  Transportation equipment manufacturing (exclud...  \n",
       "6346  Transportation equipment manufacturing (exclud...  \n",
       "6347  Transportation equipment manufacturing (exclud...  \n",
       "\n",
       "[17088 rows x 6 columns]"
      ]
     },
     "execution_count": 337,
     "metadata": {},
     "output_type": "execute_result"
    }
   ],
   "source": [
    "data = pd.concat([df1, df2, df3])\n",
    "data = data.dropna()\n",
    "data.sort_values(by= 'date')\n",
    "data"
   ]
  },
  {
   "cell_type": "markdown",
   "id": "448a4c3c",
   "metadata": {},
   "source": [
    "## figer show Utilities industry become vital and effective from 2016 "
   ]
  },
  {
   "cell_type": "code",
   "execution_count": 338,
   "id": "8a70b6c3",
   "metadata": {},
   "outputs": [
    {
     "data": {
      "text/plain": [
       "[Text(0.5, 0, 'Date'),\n",
       " Text(0, 0.5, 'Employment'),\n",
       " Text(0.5, 1.0, 'Employment in the Utilities industry 1997-2018')]"
      ]
     },
     "execution_count": 338,
     "metadata": {},
     "output_type": "execute_result"
    },
    {
     "data": {
      "image/png": "[encoded data removed]",
      "text/plain": [
       "<Figure size 720x432 with 1 Axes>"
      ]
     },
     "metadata": {
      "needs_background": "light"
     },
     "output_type": "display_data"
    }
   ],
   "source": [
    "#Subsetting the construction data\n",
    "Utilities = data[data['LMO_Detailed_Industry']== \"Utilities\"]\n",
    "\n",
    "\n",
    "plt.figure(figsize = (10,6))\n",
    "ax = sns.lineplot(x = \"date\", y = \"_EMPLOYMENT_\",\n",
    "             data = Utilities)\n",
    "ax.set(xlabel= \"Date\", ylabel=\"Employment\", title= \"Employment in the Utilities industry 1997-2018\")"
   ]
  },
  {
   "cell_type": "code",
   "execution_count": 339,
   "id": "2c7b4ff1",
   "metadata": {},
   "outputs": [
    {
     "data": {
      "text/plain": [
       "[Text(0.5, 0, 'Total Employment'),\n",
       " Text(0, 0.5, 'Industries'),\n",
       " Text(0.5, 1.0, 'Employment across industries 1997-2018')]"
      ]
     },
     "execution_count": 339,
     "metadata": {},
     "output_type": "execute_result"
    },
    {
     "data": {
      "image/png": "[encoded data removed]",
      "text/plain": [
       "<Figure size 1800x1080 with 1 Axes>"
      ]
     },
     "metadata": {
      "needs_background": "light"
     },
     "output_type": "display_data"
    }
   ],
   "source": [
    "grouped_data = data.groupby('LMO_Detailed_Industry').agg(Employment= ('_EMPLOYMENT_', 'sum'))\n",
    "grouped_data = pd.DataFrame(grouped_data)\n",
    "plt.figure(figsize = (25,15))\n",
    "ax=sns.barplot(x='Employment',y=grouped_data.index,data=grouped_data,orient ='h')\n",
    "ax.set(xlabel=\"Total Employment\", ylabel = \"Industries\", title=\"Employment across industries 1997-2018\")"
   ]
  }
 ],
 "metadata": {
  "kernelspec": {
   "display_name": "Python 3",
   "language": "python",
   "name": "python3"
  },
  "language_info": {
   "codemirror_mode": {
    "name": "ipython",
    "version": 3
   },
   "file_extension": ".py",
   "mimetype": "text/x-python",
   "name": "python",
   "nbconvert_exporter": "python",
   "pygments_lexer": "ipython3",
   "version": "3.8.8"
  }
 },
 "nbformat": 4,
 "nbformat_minor": 5
}
